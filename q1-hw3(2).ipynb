{
 "cells": [
  {
   "cell_type": "code",
   "execution_count": 1,
   "metadata": {},
   "outputs": [
    {
     "name": "stderr",
     "output_type": "stream",
     "text": [
      "Using TensorFlow backend.\n"
     ]
    }
   ],
   "source": [
    "import numpy as np\n",
    "import matplotlib.pyplot as plt\n",
    "import pandas as pd\n",
    "from sklearn.model_selection import KFold\n",
    "from keras.models import Sequential\n",
    "from keras.layers import Dense\n",
    "\n",
    "\n",
    "colnames = ['col1','col2']\n",
    "label = ['label']\n",
    "Xtest = pd.read_csv('D:/Desktop/intro to ml 3/test.csv',sep='\\t',names = colnames)\n",
    "ytest = pd.read_csv('D:/Desktop/intro to ml 3/testlabel.csv',sep='\\t',names = label)\n",
    "Xtrain = pd.read_csv('D:/Desktop/intro to ml 3/train.csv',sep='\\t',names= colnames)\n",
    "ytrain = pd.read_csv('D:/Desktop/intro to ml 3/trainlabel.csv',sep='\\t',names = label)\n",
    "Xtrain_500 = pd.read_csv('D:/Desktop/intro to ml 3/train_500.csv',sep='\\t',names = colnames)\n",
    "ytrain_500 = pd.read_csv('D:/Desktop/intro to ml 3/label_500.csv',sep='\\t',names = label)\n",
    "Xtrain_1000 = pd.read_csv('D:/Desktop/intro to ml 3/train_1000.csv',sep='\\t',names = colnames)\n",
    "ytrain_1000 = pd.read_csv('D:/Desktop/intro to ml 3/label_1000.csv',sep='\\t',names = label)\n"
   ]
  },
  {
   "cell_type": "code",
   "execution_count": 2,
   "metadata": {},
   "outputs": [],
   "source": [
    "X_train = np.array(Xtrain)  #100 train samples\n",
    "y_train = np.array(ytrain)\n",
    "\n",
    "X_train_500 = np.array(Xtrain_500) #500 train samples\n",
    "y_train_500 = np.array(ytrain_500)\n",
    "\n",
    "X_train_1000 = np.array(Xtrain_1000) #1000 train samples\n",
    "y_train_1000 = np.array(ytrain_1000)\n",
    "\n",
    "X_test = np.array(Xtest) #10000 test samples\n",
    "y_test = np.array(ytest)\n",
    "\n",
    "y_test = np.reshape(y_test,(10000,))\n",
    "y_train = np.reshape(y_train,(100,))\n",
    "y_train_500 = np.reshape(y_train_500,(500,))\n",
    "y_train_1000 = np.reshape(y_train_1000,(1000,))\n",
    "\n",
    "y_train_enc = pd.get_dummies(y_train).values #100label train\n",
    "y_test_enc = pd.get_dummies(y_test).values  #10000 test label\n",
    "y_train500_enc = pd.get_dummies(y_train_500).values #500 label train\n",
    "y_train1000_enc = pd.get_dummies(y_train_1000).values #1000 label train\n",
    "\n"
   ]
  },
  {
   "cell_type": "code",
   "execution_count": 3,
   "metadata": {},
   "outputs": [],
   "source": [
    "def custom_cross_val(X_train,y_train_enc,N,k):\n",
    "    for fold in range(k):\n",
    "        val_data = X_train[fold*(N//k):(fold+1)*(N//k),:]\n",
    "        train_data = np.concatenate((X_train[:fold*(N//k),:],X_train[(fold+1)*(N//k):,:]),axis = 0)\n",
    "\n",
    "        val_label = y_train_enc[fold*(N//k):(fold+1)*(N//k),:]\n",
    "        train_label = np.concatenate((y_train_enc[:fold*(N//k),:],y_train_enc[(fold+1)*(N//k):,:]),axis = 0)\n",
    "        \n",
    "        \n",
    "    return val_data,train_data,val_label,train_label"
   ]
  },
  {
   "cell_type": "code",
   "execution_count": null,
   "metadata": {},
   "outputs": [],
   "source": []
  },
  {
   "cell_type": "code",
   "execution_count": 4,
   "metadata": {},
   "outputs": [],
   "source": [
    "def MLP(x_tr,y_tr,activation,output,epochs):\n",
    "    model = Sequential()\n",
    "    model.add(Dense(output,input_shape=(2,),activation = activation))\n",
    "    model.add(Dense(3,activation = 'softmax'))\n",
    "    model.compile(loss = 'categorical_crossentropy',optimizer='adam',metrics=['accuracy','categorical_accuracy'])\n",
    "    history = model.fit(x_tr,y_tr,epochs = epochs,batch_size=10,verbose = 0)\n",
    "    \n",
    "    return history,model"
   ]
  },
  {
   "cell_type": "code",
   "execution_count": 11,
   "metadata": {},
   "outputs": [],
   "source": [
    "\n",
    "def main_model(neurons,X_train,y_train,epochs,N,k):\n",
    "    score_elu = []\n",
    "    score_sig = []\n",
    "    score = []\n",
    "    active = ['sigmoid','elu']\n",
    "    for k in range(0,len(active)):\n",
    "        print('ACTIVATION',active[k])\n",
    "        for i in neurons:\n",
    "            print('%%%%%NEURON = {}%%%%%%'.format(i))\n",
    "            for j in range(10):\n",
    "                x_te,x_tr,y_te,y_tr = custom_cross_val(X_train,y_train,N,10)\n",
    "                \n",
    "                hist_mlp,model = MLP(x_tr,y_tr,active[k],i,epochs)\n",
    "               \n",
    "                train_scores = model.evaluate(x_tr,y_tr,verbose = 0)\n",
    "                test_scores = model.evaluate(x_te,y_te,verbose = 0)\n",
    "                score.append(test_scores[1]*100)\n",
    "\n",
    "    sig_score = score[:len(score)//2]\n",
    "    elu_score = score[len(score)//2:]\n",
    "    for z in range(0,len(neurons)):\n",
    "        w = z*10\n",
    "        comp_nll1 = np.average(sig_score[w:w+10])\n",
    "        score_sig.append(comp_nll1)\n",
    "        comp_nll2 = np.average(elu_score[w:w+10])\n",
    "        score_elu.append(comp_nll2)\n",
    "#     ypred = model.predict(x_te)\n",
    "#     ypred_class = model.predict_classes(x_te)\n",
    "\n",
    "    plt.subplot(211)\n",
    "    plt.rcParams['figure.facecolor'] = 'white'\n",
    "    plt.rcParams['figure.figsize'] = [7,7]\n",
    "    plt.xlabel('Neurons')\n",
    "    plt.ylabel('accuracy')\n",
    "    plt.bar(neurons,score_elu,color = 'red')\n",
    "    plt.subplot(212)\n",
    "    plt.bar(neurons,score_sig,color = 'blue')\n",
    "    \n",
    "    print(np.argmax(score_elu)+1)\n",
    "    return hist_mlp,model"
   ]
  },
  {
   "cell_type": "code",
   "execution_count": 12,
   "metadata": {},
   "outputs": [
    {
     "name": "stdout",
     "output_type": "stream",
     "text": [
      "ACTIVATION sigmoid\n",
      "%%%%%NEURON = 1%%%%%%\n",
      "%%%%%NEURON = 2%%%%%%\n",
      "%%%%%NEURON = 3%%%%%%\n",
      "%%%%%NEURON = 4%%%%%%\n",
      "%%%%%NEURON = 5%%%%%%\n",
      "%%%%%NEURON = 6%%%%%%\n",
      "%%%%%NEURON = 7%%%%%%\n",
      "%%%%%NEURON = 8%%%%%%\n",
      "%%%%%NEURON = 9%%%%%%\n",
      "%%%%%NEURON = 10%%%%%%\n",
      "ACTIVATION elu\n",
      "%%%%%NEURON = 1%%%%%%\n",
      "%%%%%NEURON = 2%%%%%%\n",
      "%%%%%NEURON = 3%%%%%%\n",
      "%%%%%NEURON = 4%%%%%%\n",
      "%%%%%NEURON = 5%%%%%%\n",
      "%%%%%NEURON = 6%%%%%%\n",
      "%%%%%NEURON = 7%%%%%%\n",
      "%%%%%NEURON = 8%%%%%%\n",
      "%%%%%NEURON = 9%%%%%%\n",
      "%%%%%NEURON = 10%%%%%%\n",
      "9\n"
     ]
    },
    {
     "data": {
      "image/png": "[encoded data removed]",
      "text/plain": [
       "<Figure size 504x504 with 2 Axes>"
      ]
     },
     "metadata": {},
     "output_type": "display_data"
    }
   ],
   "source": [
    "neurons = [1,2,3,4,5,6,7,8,9,10]\n",
    "hist_100,model = main_model(neurons,X_train,y_train_enc,epochs=150,N=100,k=10)"
   ]
  },
  {
   "cell_type": "code",
   "execution_count": 59,
   "metadata": {},
   "outputs": [
    {
     "data": {
      "text/plain": [
       "0.7296001"
      ]
     },
     "execution_count": 59,
     "metadata": {},
     "output_type": "execute_result"
    }
   ],
   "source": [
    "np.average(hist_100.history['accuracy'])"
   ]
  },
  {
   "cell_type": "code",
   "execution_count": null,
   "metadata": {},
   "outputs": [],
   "source": []
  },
  {
   "cell_type": "code",
   "execution_count": 16,
   "metadata": {},
   "outputs": [
    {
     "name": "stdout",
     "output_type": "stream",
     "text": [
      "Model Saved\n"
     ]
    }
   ],
   "source": [
    "#saving the model\n",
    "model.save('model100.h5')\n",
    "print('Model Saved')"
   ]
  },
  {
   "cell_type": "markdown",
   "metadata": {},
   "source": [
    "Now repeating the procedure for 500 training samples"
   ]
  },
  {
   "cell_type": "code",
   "execution_count": 18,
   "metadata": {},
   "outputs": [
    {
     "name": "stdout",
     "output_type": "stream",
     "text": [
      "ACTIVATION sigmoid\n",
      "%%%%%NEURON = 1%%%%%%\n",
      "%%%%%NEURON = 2%%%%%%\n",
      "%%%%%NEURON = 3%%%%%%\n",
      "%%%%%NEURON = 4%%%%%%\n",
      "%%%%%NEURON = 5%%%%%%\n",
      "%%%%%NEURON = 6%%%%%%\n",
      "%%%%%NEURON = 7%%%%%%\n",
      "%%%%%NEURON = 8%%%%%%\n",
      "%%%%%NEURON = 9%%%%%%\n",
      "%%%%%NEURON = 10%%%%%%\n",
      "ACTIVATION elu\n",
      "%%%%%NEURON = 1%%%%%%\n",
      "%%%%%NEURON = 2%%%%%%\n",
      "%%%%%NEURON = 3%%%%%%\n",
      "%%%%%NEURON = 4%%%%%%\n",
      "%%%%%NEURON = 5%%%%%%\n",
      "%%%%%NEURON = 6%%%%%%\n",
      "%%%%%NEURON = 7%%%%%%\n",
      "%%%%%NEURON = 8%%%%%%\n",
      "%%%%%NEURON = 9%%%%%%\n",
      "%%%%%NEURON = 10%%%%%%\n",
      "10\n"
     ]
    },
    {
     "data": {
      "image/png": "[encoded data removed]",
      "text/plain": [
       "<Figure size 504x504 with 2 Axes>"
      ]
     },
     "metadata": {},
     "output_type": "display_data"
    }
   ],
   "source": [
    "neurons500 = [1,2,3,4,5,6,7,8,9,10]\n",
    "\n",
    "hist_500,model500 = main_model(neurons,X_train_500,y_train500_enc,150,500,10)"
   ]
  },
  {
   "cell_type": "code",
   "execution_count": null,
   "metadata": {},
   "outputs": [],
   "source": []
  },
  {
   "cell_type": "code",
   "execution_count": 29,
   "metadata": {},
   "outputs": [
    {
     "name": "stdout",
     "output_type": "stream",
     "text": [
      "model 500 saved\n"
     ]
    }
   ],
   "source": [
    "model.save('model500.h5')\n",
    "print('model 500 saved')"
   ]
  },
  {
   "cell_type": "markdown",
   "metadata": {},
   "source": [
    "Now repeating the steps for 1000 training samples"
   ]
  },
  {
   "cell_type": "code",
   "execution_count": 25,
   "metadata": {},
   "outputs": [
    {
     "name": "stdout",
     "output_type": "stream",
     "text": [
      "ACTIVATION sigmoid\n",
      "%%%%%NEURON = 1%%%%%%\n",
      "%%%%%NEURON = 2%%%%%%\n",
      "%%%%%NEURON = 3%%%%%%\n",
      "%%%%%NEURON = 4%%%%%%\n",
      "%%%%%NEURON = 5%%%%%%\n",
      "%%%%%NEURON = 6%%%%%%\n",
      "%%%%%NEURON = 7%%%%%%\n",
      "%%%%%NEURON = 8%%%%%%\n",
      "%%%%%NEURON = 9%%%%%%\n",
      "%%%%%NEURON = 10%%%%%%\n",
      "ACTIVATION elu\n",
      "%%%%%NEURON = 1%%%%%%\n",
      "%%%%%NEURON = 2%%%%%%\n",
      "%%%%%NEURON = 3%%%%%%\n",
      "%%%%%NEURON = 4%%%%%%\n",
      "%%%%%NEURON = 5%%%%%%\n",
      "%%%%%NEURON = 6%%%%%%\n",
      "%%%%%NEURON = 7%%%%%%\n",
      "%%%%%NEURON = 8%%%%%%\n",
      "%%%%%NEURON = 9%%%%%%\n",
      "%%%%%NEURON = 10%%%%%%\n",
      "9\n"
     ]
    },
    {
     "data": {
      "image/png": "[encoded data removed]",
      "text/plain": [
       "<Figure size 504x504 with 2 Axes>"
      ]
     },
     "metadata": {},
     "output_type": "display_data"
    }
   ],
   "source": [
    "\n",
    "histfinal_1000,model1000 = main_model(neurons,X_train_1000,y_train1000_enc,150,N=1000,k=10)"
   ]
  },
  {
   "cell_type": "code",
   "execution_count": 26,
   "metadata": {},
   "outputs": [
    {
     "name": "stdout",
     "output_type": "stream",
     "text": [
      "model 1000 saved\n"
     ]
    }
   ],
   "source": [
    "model.save('model1000.h5')\n",
    "print('model 1000 saved')"
   ]
  },
  {
   "cell_type": "markdown",
   "metadata": {},
   "source": [
    "Final Training Model on 100 training samples and testing on 10000 test samples"
   ]
  },
  {
   "cell_type": "code",
   "execution_count": 19,
   "metadata": {},
   "outputs": [
    {
     "name": "stdout",
     "output_type": "stream",
     "text": [
      "100/100 [==============================] - 0s 1ms/step\n",
      "10000/10000 [==============================] - 1s 52us/step\n",
      "0.949999988079071\n",
      "0.8830999732017517\n"
     ]
    }
   ],
   "source": [
    "histfinal_100,model100 = MLP(X_train,y_train_enc,'elu',9,100)\n",
    "trainaccuracy100 = model100.evaluate(X_train,y_train_enc)\n",
    "testaccuracy100 = model100.evaluate(X_test,y_test_enc)\n",
    "print(trainaccuracy100[1])\n",
    "print(testaccuracy100[1])\n"
   ]
  },
  {
   "cell_type": "markdown",
   "metadata": {},
   "source": [
    "Final Training Model on 500 training samples and testing on 10000 test samples"
   ]
  },
  {
   "cell_type": "code",
   "execution_count": 65,
   "metadata": {},
   "outputs": [
    {
     "name": "stdout",
     "output_type": "stream",
     "text": [
      "500/500 [==============================] - 0s 104us/step\n",
      "10000/10000 [==============================] - 0s 14us/step\n",
      "0.9559999704360962\n",
      "0.9700999855995178\n"
     ]
    }
   ],
   "source": [
    "histfinal_500,model500 = MLP(X_train_500,y_train500_enc,'elu',6,100)\n",
    "trainaccuracy500 = model500.evaluate(X_train_500,y_train500_enc)\n",
    "testaccuracy500 = model500.evaluate(X_test,y_test_enc)\n",
    "print(trainaccuracy500[1])\n",
    "print(testaccuracy500[1])\n"
   ]
  },
  {
   "cell_type": "markdown",
   "metadata": {},
   "source": [
    "Final training model on 1000 training samples and testing on 10000 test samples"
   ]
  },
  {
   "cell_type": "code",
   "execution_count": 70,
   "metadata": {},
   "outputs": [
    {
     "name": "stdout",
     "output_type": "stream",
     "text": [
      "1000/1000 [==============================] - 0s 61us/step\n",
      "10000/10000 [==============================] - 0s 15us/step\n",
      "0.9679999947547913\n",
      "0.9717000126838684\n"
     ]
    }
   ],
   "source": [
    "histfinal_1000,model1000 = MLP(X_train_1000,y_train1000_enc,'elu',5,100)\n",
    "trainaccuracy1000 = model1000.evaluate(X_train_1000,y_train1000_enc)\n",
    "testaccuracy1000 = model1000.evaluate(X_test,y_test_enc)\n",
    "print(trainaccuracy1000[1])\n",
    "print(testaccuracy1000[1])\n"
   ]
  },
  {
   "cell_type": "markdown",
   "metadata": {},
   "source": [
    "DOING MAP CLASSIFICATION BASED ON 100 SAMPLES TRAINING MODEL"
   ]
  },
  {
   "cell_type": "code",
   "execution_count": 44,
   "metadata": {},
   "outputs": [
    {
     "name": "stdout",
     "output_type": "stream",
     "text": [
      "[2 2 3 ... 3 1 3]\n",
      "[2 2 3 ... 3 1 3]\n"
     ]
    }
   ],
   "source": [
    "from keras.models import load_model\n",
    "model100 = load_model('model100.h5')\n",
    "y_pred100 = []\n",
    "ypred100 = model100.predict_classes(X_test)\n",
    "for i in ypred100:\n",
    "    i = i+1\n",
    "    y_pred100.append(i)\n",
    "y_pred100 = np.array(y_pred100)\n",
    "print(y_pred100)\n",
    "print(y_test)"
   ]
  },
  {
   "cell_type": "markdown",
   "metadata": {},
   "source": [
    "DOING MAP CLASSIFICATION BASED ON 500 SAMPLES TRAINING MODEL"
   ]
  },
  {
   "cell_type": "code",
   "execution_count": 45,
   "metadata": {},
   "outputs": [
    {
     "name": "stdout",
     "output_type": "stream",
     "text": [
      "[2 2 3 ... 3 1 3]\n",
      "[2 2 3 ... 3 1 3]\n"
     ]
    }
   ],
   "source": [
    "from keras.models import load_model\n",
    "model500 = load_model('model500.h5')\n",
    "y_pred500 = []\n",
    "ypred500 = model500.predict_classes(X_test)\n",
    "for i in ypred500:\n",
    "    i = i+1\n",
    "    y_pred500.append(i)\n",
    "y_pred500 = np.array(y_pred500)\n",
    "print(y_pred500)\n",
    "print(y_test)"
   ]
  },
  {
   "cell_type": "markdown",
   "metadata": {},
   "source": [
    "DOING MAP CLASSIFICATION BASED ON 1000 SAMPLES TRAINING MODEL"
   ]
  },
  {
   "cell_type": "code",
   "execution_count": 46,
   "metadata": {},
   "outputs": [
    {
     "name": "stdout",
     "output_type": "stream",
     "text": [
      "[2 2 3 ... 3 1 3]\n",
      "[2 2 3 ... 3 1 3]\n"
     ]
    }
   ],
   "source": [
    "from keras.models import load_model\n",
    "model1000 = load_model('model1000.h5')\n",
    "y_pred1000 = []\n",
    "ypred1000 = model1000.predict_classes(X_test)\n",
    "for i in ypred1000:\n",
    "    i = i+1\n",
    "    y_pred1000.append(i)\n",
    "y_pred1000 = np.array(y_pred1000)\n",
    "print(y_pred1000)\n",
    "print(y_test)"
   ]
  },
  {
   "cell_type": "code",
   "execution_count": 71,
   "metadata": {},
   "outputs": [
    {
     "data": {
      "text/plain": [
       "0.9535"
      ]
     },
     "execution_count": 71,
     "metadata": {},
     "output_type": "execute_result"
    }
   ],
   "source": [
    "from sklearn.metrics import accuracy_score\n",
    "acc = accuracy_score(y_test,y_pred1000)\n",
    "acc"
   ]
  },
  {
   "cell_type": "code",
   "execution_count": null,
   "metadata": {},
   "outputs": [],
   "source": []
  }
 ],
 "metadata": {
  "kernelspec": {
   "display_name": "Python 3",
   "language": "python",
   "name": "python3"
  },
  "language_info": {
   "codemirror_mode": {
    "name": "ipython",
    "version": 3
   },
   "file_extension": ".py",
   "mimetype": "text/x-python",
   "name": "python",
   "nbconvert_exporter": "python",
   "pygments_lexer": "ipython3",
   "version": "3.7.4"
  }
 },
 "nbformat": 4,
 "nbformat_minor": 2
}
