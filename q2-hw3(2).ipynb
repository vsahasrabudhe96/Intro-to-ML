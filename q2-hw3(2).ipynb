{
 "cells": [
  {
   "cell_type": "code",
   "execution_count": 348,
   "metadata": {},
   "outputs": [],
   "source": [
    "import numpy as np\n",
    "import matplotlib.pyplot as plt\n",
    "import pandas as pd\n",
    "from sklearn.mixture import GaussianMixture\n",
    "from scipy.stats import multivariate_normal\n",
    "# from sklearn.model_selection import KFold\n",
    "# from keras.models import Sequential\n",
    "# from keras.layers import Dense"
   ]
  },
  {
   "cell_type": "code",
   "execution_count": 349,
   "metadata": {},
   "outputs": [],
   "source": [
    "colnames = ['col1','col2']\n",
    "label = ['label']\n",
    "Xtest = pd.read_csv('D:/Desktop/intro to ml 3/test.csv',sep='\\t',names = colnames)\n",
    "ytest = pd.read_csv('D:/Desktop/intro to ml 3/testlabel.csv',sep='\\t',names = label)\n",
    "Xtrain = pd.read_csv('D:/Desktop/intro to ml 3/train.csv',sep='\\t',names= colnames)\n",
    "ytrain = pd.read_csv('D:/Desktop/intro to ml 3/trainlabel.csv',sep='\\t',names = label)\n",
    "testdata = pd.concat([Xtest,ytest],axis =1)\n",
    "traindata = pd.concat([Xtrain,ytrain],axis=1)\n",
    "testset = np.array(testdata)\n",
    "trainset = np.array(traindata)\n",
    "X_train = trainset[:,0:2]\n",
    "y_train = trainset[:,-1]\n",
    "#y_train = pd.get_dummies(y_train).values\n",
    "Xtrain_500 = pd.read_csv('D:/Desktop/intro to ml 3/train_500.csv',sep='\\t',names = colnames)\n",
    "ytrain_500 = pd.read_csv('D:/Desktop/intro to ml 3/label_500.csv',sep='\\t',names = label)\n",
    "Xtrain_1000 = pd.read_csv('D:/Desktop/intro to ml 3/train_1000.csv',sep='\\t',names = colnames)\n",
    "ytrain_1000 = pd.read_csv('D:/Desktop/intro to ml 3/label_1000.csv',sep='\\t',names = label)\n",
    "traindata500 = pd.concat([Xtrain_500,ytrain_500],axis =1)\n",
    "traindata1000 = pd.concat([Xtrain_1000,ytrain_1000],axis =1)"
   ]
  },
  {
   "cell_type": "code",
   "execution_count": 350,
   "metadata": {},
   "outputs": [
    {
     "data": {
      "text/html": [
       "<div>\n",
       "<style scoped>\n",
       "    .dataframe tbody tr th:only-of-type {\n",
       "        vertical-align: middle;\n",
       "    }\n",
       "\n",
       "    .dataframe tbody tr th {\n",
       "        vertical-align: top;\n",
       "    }\n",
       "\n",
       "    .dataframe thead th {\n",
       "        text-align: right;\n",
       "    }\n",
       "</style>\n",
       "<table border=\"1\" class=\"dataframe\">\n",
       "  <thead>\n",
       "    <tr style=\"text-align: right;\">\n",
       "      <th></th>\n",
       "      <th>col1</th>\n",
       "      <th>col2</th>\n",
       "      <th>label</th>\n",
       "    </tr>\n",
       "  </thead>\n",
       "  <tbody>\n",
       "    <tr>\n",
       "      <th>0</th>\n",
       "      <td>-8.825273</td>\n",
       "      <td>-19.702358</td>\n",
       "      <td>2</td>\n",
       "    </tr>\n",
       "    <tr>\n",
       "      <th>1</th>\n",
       "      <td>20.391219</td>\n",
       "      <td>-16.946793</td>\n",
       "      <td>2</td>\n",
       "    </tr>\n",
       "    <tr>\n",
       "      <th>2</th>\n",
       "      <td>-5.593590</td>\n",
       "      <td>-7.086019</td>\n",
       "      <td>2</td>\n",
       "    </tr>\n",
       "    <tr>\n",
       "      <th>3</th>\n",
       "      <td>0.678063</td>\n",
       "      <td>-0.425788</td>\n",
       "      <td>1</td>\n",
       "    </tr>\n",
       "    <tr>\n",
       "      <th>4</th>\n",
       "      <td>0.369048</td>\n",
       "      <td>-0.304128</td>\n",
       "      <td>1</td>\n",
       "    </tr>\n",
       "    <tr>\n",
       "      <th>...</th>\n",
       "      <td>...</td>\n",
       "      <td>...</td>\n",
       "      <td>...</td>\n",
       "    </tr>\n",
       "    <tr>\n",
       "      <th>9995</th>\n",
       "      <td>3.748702</td>\n",
       "      <td>3.024612</td>\n",
       "      <td>1</td>\n",
       "    </tr>\n",
       "    <tr>\n",
       "      <th>9996</th>\n",
       "      <td>-1.536172</td>\n",
       "      <td>-0.865570</td>\n",
       "      <td>1</td>\n",
       "    </tr>\n",
       "    <tr>\n",
       "      <th>9997</th>\n",
       "      <td>-2.939290</td>\n",
       "      <td>-2.281651</td>\n",
       "      <td>1</td>\n",
       "    </tr>\n",
       "    <tr>\n",
       "      <th>9998</th>\n",
       "      <td>0.104187</td>\n",
       "      <td>-10.329779</td>\n",
       "      <td>2</td>\n",
       "    </tr>\n",
       "    <tr>\n",
       "      <th>9999</th>\n",
       "      <td>45.900384</td>\n",
       "      <td>35.163696</td>\n",
       "      <td>3</td>\n",
       "    </tr>\n",
       "  </tbody>\n",
       "</table>\n",
       "<p>10000 rows × 3 columns</p>\n",
       "</div>"
      ],
      "text/plain": [
       "           col1       col2  label\n",
       "0     -8.825273 -19.702358      2\n",
       "1     20.391219 -16.946793      2\n",
       "2     -5.593590  -7.086019      2\n",
       "3      0.678063  -0.425788      1\n",
       "4      0.369048  -0.304128      1\n",
       "...         ...        ...    ...\n",
       "9995   3.748702   3.024612      1\n",
       "9996  -1.536172  -0.865570      1\n",
       "9997  -2.939290  -2.281651      1\n",
       "9998   0.104187 -10.329779      2\n",
       "9999  45.900384  35.163696      3\n",
       "\n",
       "[10000 rows x 3 columns]"
      ]
     },
     "execution_count": 350,
     "metadata": {},
     "output_type": "execute_result"
    }
   ],
   "source": [
    "testdata"
   ]
  },
  {
   "cell_type": "code",
   "execution_count": 351,
   "metadata": {},
   "outputs": [
    {
     "name": "stdout",
     "output_type": "stream",
     "text": [
      "[0.31, 0.29, 0.4]\n",
      "31 29 40\n"
     ]
    }
   ],
   "source": [
    "\n",
    "#finding the prior probabilities\n",
    "p = []\n",
    "p1 = (ytrain['label']==1).sum()\n",
    "p1 = p1/100\n",
    "p.append(p1)\n",
    "p2 = (ytrain['label']==2).sum()\n",
    "p2 = p2/100\n",
    "p.append(p2)\n",
    "p3 = (ytrain['label']==3).sum()\n",
    "p3 = p3/100\n",
    "p.append(p3)\n",
    "\n",
    "######################\n",
    "p_500 = []\n",
    "p1_500 = (ytrain_500['label']==1).sum()\n",
    "p1_500 = p1_500/500\n",
    "p_500.append(p1_500)\n",
    "p2_500 = (ytrain_500['label']==2).sum()\n",
    "p2_500 = p2_500/500\n",
    "p_500.append(p2_500)\n",
    "p3_500 = (ytrain_500['label']==3).sum()\n",
    "p3_500 = p3_500/500\n",
    "p_500.append(p3_500)\n",
    "######################\n",
    "p_1000 = []\n",
    "p1_1000 = (ytrain_1000['label']==1).sum()\n",
    "p1_1000 = p1_1000/1000\n",
    "p_1000.append(p1_1000)\n",
    "p2_1000 = (ytrain_1000['label']==2).sum()\n",
    "p2_1000 = p2_1000/1000\n",
    "p_1000.append(p2_1000)\n",
    "p3_1000 = (ytrain_1000['label']==3).sum()\n",
    "p3_1000 = p3_1000/1000\n",
    "p_1000.append(p3_1000)\n",
    "\n",
    "\n",
    "\n",
    "# #getting class specific data\n",
    "#df.loc[df['column_name'] == some_value]\n",
    "data_1 = np.array(traindata.loc[traindata['label']==1])\n",
    "data_2 = np.array(traindata.loc[traindata['label']==2])\n",
    "data_3 = np.array(traindata.loc[traindata['label']==3])\n",
    "\n",
    "data_1_500 = np.array(traindata500.loc[traindata500['label']==1])\n",
    "data_2_500 = np.array(traindata500.loc[traindata500['label']==2])\n",
    "data_3_500 = np.array(traindata500.loc[traindata500['label']==3])\n",
    "\n",
    "data_1_1000 = np.array(traindata1000.loc[traindata1000['label']==1])\n",
    "data_2_1000 = np.array(traindata1000.loc[traindata1000['label']==2])\n",
    "data_3_1000 = np.array(traindata1000.loc[traindata1000['label']==3])\n",
    "\n",
    "#splitting the class specific data into data and label which will be used for cross validation\n",
    "x_train_d1 = data_1[:,0:2]\n",
    "y_train_d1 = data_1[:,-1]\n",
    "\n",
    "x_train_d2 = data_2[:,0:2]\n",
    "y_train_d2 = data_2[:,-1]\n",
    "\n",
    "x_train_d3 = data_3[:,0:2]\n",
    "y_train_d3 = data_3[:,-1]\n",
    "#############################\n",
    "x_train500_d1 = data_1_500[:,0:2]\n",
    "y_train500_d1 = data_1_500[:,-1]\n",
    "\n",
    "x_train500_d2 = data_2_500[:,0:2]\n",
    "y_train500_d2 = data_2_500[:,-1]\n",
    "\n",
    "x_train500_d3 = data_3_500[:,0:2]\n",
    "y_train500_d3 = data_3_500[:,-1]\n",
    "###############################\n",
    "x_train1000_d1 = data_1_1000[:,0:2]\n",
    "y_train1000_d1 = data_1_1000[:,-1]\n",
    "\n",
    "x_train1000_d2 = data_2_1000[:,0:2]\n",
    "y_train1000_d2 = data_2_1000[:,-1]\n",
    "\n",
    "x_train1000_d3 = data_3_1000[:,0:2]\n",
    "y_train1000_d3 = data_3_1000[:,-1]\n",
    "print(p)\n",
    "print(len(data_1),len(data_2),len(data_3))"
   ]
  },
  {
   "cell_type": "code",
   "execution_count": 352,
   "metadata": {},
   "outputs": [],
   "source": [
    "def custom_cross_val(X_train,N,k):\n",
    "    \n",
    "    for fold in range(k):\n",
    "        val_data = X_train[fold*(N//k):(fold+1)*(N//k),:]\n",
    "        train_data = np.concatenate((X_train[:fold*(N//k),:],X_train[(fold+1)*(N//k):,:]),axis = 0)\n",
    "\n",
    "        #val_label = y_train_enc[fold*(N//k):(fold+1)*(N//k),:]\n",
    "        #train_label = np.concatenate((y_train_enc[:fold*(N//k),:],y_train_enc[(fold+1)*(N//k):,:]),axis = 0)\n",
    "        \n",
    "        \n",
    "    return val_data,train_data"
   ]
  },
  {
   "cell_type": "code",
   "execution_count": 353,
   "metadata": {},
   "outputs": [],
   "source": [
    "def GMM(comp,x_train,N,k):\n",
    "    from sklearn.mixture import GaussianMixture\n",
    "    neg_log_like = []\n",
    "    for i in comp:\n",
    "        for j in range(10):\n",
    "            x_te,x_tr = custom_cross_val(x_train,N,k)\n",
    "            gmm = GaussianMixture(n_components=i).fit(x_tr)\n",
    "            labels = gmm.predict(x_tr)\n",
    "            sc = gmm.score(x_te)\n",
    "        neg_log_like.append(sc)\n",
    "    return neg_log_like,gmm"
   ]
  },
  {
   "cell_type": "code",
   "execution_count": 358,
   "metadata": {},
   "outputs": [],
   "source": [
    "def model_selection(xtrain):\n",
    "    comp = [1,2,3,4,5,6,7,8,9,10,11,12,13,14,15]\n",
    "    nll1 = []\n",
    "    neg_log_like1,gmm1 = GMM(comp,xtrain,len(xtrain),10)\n",
    "    #neg_log_like2,gmm2 = GMM(comp,x_train_d2,len(data_2),10)\n",
    "    #neg_log_like3,gmm3 = GMM(comp,x_train_d3,len(data_3),10)\n",
    "    for k in range(0,len(comp)):\n",
    "        z = k*10\n",
    "        comp_nll1 = np.average(neg_log_like1[k:k+10])\n",
    "        nll1.append(comp_nll1)\n",
    "#         comp_nll2 = np.average(neg_log_like2[k:k+10])\n",
    "#         nll2.append(comp_nll2)\n",
    "#         comp_nll3 = np.average(neg_log_like3[k:k+10])\n",
    "#         nll3.append(comp_nll3)\n",
    "    n_c = np.argmin(nll1)+1\n",
    "#     n_c2 = np.argmin(nll2)+1\n",
    "#     n_c3 = np.argmin(nll3)+1\n",
    "    plt.plot(comp,nll1)\n",
    "    plt.xlabel('number of components')\n",
    "    plt.ylabel('Negative Log Likelihood label1')\n",
    "    return n_c"
   ]
  },
  {
   "cell_type": "code",
   "execution_count": 483,
   "metadata": {},
   "outputs": [
    {
     "data": {
      "image/png": "[encoded data removed]",
      "text/plain": [
       "<Figure size 432x288 with 1 Axes>"
      ]
     },
     "metadata": {
      "needs_background": "light"
     },
     "output_type": "display_data"
    }
   ],
   "source": [
    "n_c1= model_selection(x_train1000_d1)"
   ]
  },
  {
   "cell_type": "code",
   "execution_count": 482,
   "metadata": {},
   "outputs": [
    {
     "data": {
      "image/png": "[encoded data removed]",
      "text/plain": [
       "<Figure size 432x288 with 1 Axes>"
      ]
     },
     "metadata": {
      "needs_background": "light"
     },
     "output_type": "display_data"
    }
   ],
   "source": [
    "n_c2= model_selection(x_train1000_d2)"
   ]
  },
  {
   "cell_type": "code",
   "execution_count": 481,
   "metadata": {},
   "outputs": [
    {
     "data": {
      "image/png": "[encoded data removed]",
      "text/plain": [
       "<Figure size 432x288 with 1 Axes>"
      ]
     },
     "metadata": {
      "needs_background": "light"
     },
     "output_type": "display_data"
    }
   ],
   "source": [
    "n_c3= model_selection(x_train1000_d3)"
   ]
  },
  {
   "cell_type": "code",
   "execution_count": 484,
   "metadata": {},
   "outputs": [
    {
     "name": "stdout",
     "output_type": "stream",
     "text": [
      "15 14 1\n"
     ]
    }
   ],
   "source": [
    "print(n_c1,n_c2,n_c3)"
   ]
  },
  {
   "cell_type": "code",
   "execution_count": 411,
   "metadata": {},
   "outputs": [],
   "source": [
    "def gmm_model(components,xtrain):\n",
    "    gmm_model = GaussianMixture(components).fit(xtrain)\n",
    "    return gmm_model"
   ]
  },
  {
   "cell_type": "code",
   "execution_count": 412,
   "metadata": {},
   "outputs": [
    {
     "data": {
      "text/plain": [
       "array([[[ 1.00000000e-06, -1.17343060e-29],\n",
       "        [-1.17343060e-29,  1.00000000e-06]],\n",
       "\n",
       "       [[ 7.13387888e-02, -1.32960121e-02],\n",
       "        [-1.32960121e-02,  1.59795694e-01]],\n",
       "\n",
       "       [[ 1.00000000e-06,  9.46633086e-29],\n",
       "        [ 9.46633086e-29,  1.00000000e-06]],\n",
       "\n",
       "       [[ 1.00000000e-06, -6.70531769e-29],\n",
       "        [-6.70531769e-29,  1.00000000e-06]],\n",
       "\n",
       "       [[ 1.00000000e-06,  3.03711449e-29],\n",
       "        [ 3.03711449e-29,  1.00000000e-06]],\n",
       "\n",
       "       [[ 1.00000000e-06,  8.13512809e-30],\n",
       "        [ 8.13512809e-30,  1.00000000e-06]],\n",
       "\n",
       "       [[ 2.42788639e-02, -1.87981870e-02],\n",
       "        [-1.87981870e-02,  3.67276174e-02]],\n",
       "\n",
       "       [[ 1.00000000e-06, -2.56379794e-29],\n",
       "        [-2.56379794e-29,  1.00000000e-06]],\n",
       "\n",
       "       [[ 4.37233884e-01,  1.69876686e-01],\n",
       "        [ 1.69876686e-01,  1.43766937e-01]],\n",
       "\n",
       "       [[ 1.00000000e-06, -7.59278621e-30],\n",
       "        [-7.59278621e-30,  1.00000000e-06]],\n",
       "\n",
       "       [[ 1.00000000e-06, -3.68792473e-29],\n",
       "        [-3.68792473e-29,  1.00000000e-06]],\n",
       "\n",
       "       [[ 1.00000000e-06, -1.08468374e-29],\n",
       "        [-1.08468374e-29,  1.00000000e-06]],\n",
       "\n",
       "       [[ 1.00000000e-06,  1.79465856e-29],\n",
       "        [ 1.79465856e-29,  1.00000000e-06]]])"
      ]
     },
     "execution_count": 412,
     "metadata": {},
     "output_type": "execute_result"
    }
   ],
   "source": [
    "gmm_model_1 = gmm_model(n_c1,x_train_d1)\n",
    "mean_1 = gmm_model_1.means_\n",
    "cov_1 = np.array(gmm_model_1.covariances_)\n",
    "w_1 = gmm_model_1.weights_\n",
    "cov_1"
   ]
  },
  {
   "cell_type": "code",
   "execution_count": 413,
   "metadata": {},
   "outputs": [
    {
     "data": {
      "text/plain": [
       "array([[[ 1.23029663e+00, -1.10507411e+00],\n",
       "        [-1.10507411e+00,  9.92598850e-01]],\n",
       "\n",
       "       [[ 1.91412937e+00,  2.73569704e-02],\n",
       "        [ 2.73569704e-02,  7.95157826e-01]],\n",
       "\n",
       "       [[ 2.25886802e+00, -3.49263061e-01],\n",
       "        [-3.49263061e-01,  5.40035973e-02]],\n",
       "\n",
       "       [[ 1.99226891e+00, -2.27621705e+00],\n",
       "        [-2.27621705e+00,  1.64094491e+01]],\n",
       "\n",
       "       [[ 1.00000000e-06,  1.24955567e-27],\n",
       "        [ 1.24955567e-27,  1.00000000e-06]],\n",
       "\n",
       "       [[ 1.00000000e-06,  8.51969778e-28],\n",
       "        [ 8.51969778e-28,  1.00000000e-06]],\n",
       "\n",
       "       [[ 9.09472599e-01, -9.54212491e-02],\n",
       "        [-9.54212491e-02,  2.71132779e-01]],\n",
       "\n",
       "       [[ 1.00000000e-06,  2.62532909e-27],\n",
       "        [ 2.62532909e-27,  1.00000000e-06]],\n",
       "\n",
       "       [[ 4.03183697e+00, -7.37050922e+00],\n",
       "        [-7.37050922e+00,  1.34738641e+01]],\n",
       "\n",
       "       [[ 1.04175463e+00, -9.78871294e-01],\n",
       "        [-9.78871294e-01,  9.19785662e-01]],\n",
       "\n",
       "       [[ 1.91315872e-03, -8.07641047e-02],\n",
       "        [-8.07641047e-02,  3.41124534e+00]],\n",
       "\n",
       "       [[ 1.00000000e-06, -1.23693390e-27],\n",
       "        [-1.23693390e-27,  1.00000000e-06]],\n",
       "\n",
       "       [[ 1.00000000e-06,  3.28166137e-28],\n",
       "        [ 3.28166137e-28,  1.00000000e-06]],\n",
       "\n",
       "       [[ 1.00000000e-06, -1.08468374e-29],\n",
       "        [-1.08468374e-29,  1.00000000e-06]],\n",
       "\n",
       "       [[ 6.24418151e-04,  6.32855769e-02],\n",
       "        [ 6.32855769e-02,  6.42436359e+00]]])"
      ]
     },
     "execution_count": 413,
     "metadata": {},
     "output_type": "execute_result"
    }
   ],
   "source": [
    "gmm_model_2 = gmm_model(n_c2,x_train_d2)\n",
    "mean_2 = gmm_model_2.means_\n",
    "cov_2 = gmm_model_2.covariances_\n",
    "w_2 = gmm_model_2.weights_\n",
    "cov_2"
   ]
  },
  {
   "cell_type": "code",
   "execution_count": 414,
   "metadata": {},
   "outputs": [
    {
     "data": {
      "text/plain": [
       "array([[[ 5.56698130e+01, -3.13445565e+00],\n",
       "        [-3.13445565e+00,  7.47589164e+01]],\n",
       "\n",
       "       [[ 2.99167611e+01, -4.42855567e+01],\n",
       "        [-4.42855567e+01,  1.27469820e+02]],\n",
       "\n",
       "       [[ 3.82882616e+01, -2.11507442e+01],\n",
       "        [-2.11507442e+01,  1.30416854e+02]],\n",
       "\n",
       "       [[ 2.80503960e+00,  5.93555876e+00],\n",
       "        [ 5.93555876e+00,  5.03613549e+01]],\n",
       "\n",
       "       [[ 1.00000000e-06,  2.57484199e-27],\n",
       "        [ 2.57484199e-27,  1.00000000e-06]],\n",
       "\n",
       "       [[ 5.20656437e+01,  7.36396442e+01],\n",
       "        [ 7.36396442e+01,  1.06090951e+02]],\n",
       "\n",
       "       [[ 8.66530124e+00, -1.54893594e+01],\n",
       "        [-1.54893594e+01,  2.76874726e+01]],\n",
       "\n",
       "       [[ 2.03052921e+01, -1.11369081e+01],\n",
       "        [-1.11369081e+01,  9.27323843e+01]],\n",
       "\n",
       "       [[ 1.00781968e+01,  2.82400077e+01],\n",
       "        [ 2.82400077e+01,  1.40977788e+02]],\n",
       "\n",
       "       [[ 1.97881957e+01,  9.22333065e+00],\n",
       "        [ 9.22333065e+00,  4.29902017e+00]],\n",
       "\n",
       "       [[ 1.00000000e-06, -1.37324906e-26],\n",
       "        [-1.37324906e-26,  1.00000000e-06]],\n",
       "\n",
       "       [[ 1.00000000e-06, -4.24091623e-27],\n",
       "        [-4.24091623e-27,  1.00000000e-06]],\n",
       "\n",
       "       [[ 1.37073544e+00, -5.96225520e+00],\n",
       "        [-5.96225520e+00,  2.59338990e+01]]])"
      ]
     },
     "execution_count": 414,
     "metadata": {},
     "output_type": "execute_result"
    }
   ],
   "source": [
    "gmm_model_3 = gmm_model(n_c3,x_train_d3)\n",
    "mean_3 = gmm_model_3.means_\n",
    "cov_3 = gmm_model_3.covariances_\n",
    "w_3 = gmm_model_3.weights_\n",
    "cov_3"
   ]
  },
  {
   "cell_type": "code",
   "execution_count": 415,
   "metadata": {},
   "outputs": [
    {
     "data": {
      "text/plain": [
       "(31, 2)"
      ]
     },
     "execution_count": 415,
     "metadata": {},
     "output_type": "execute_result"
    }
   ],
   "source": [
    "x_train_d1.shape"
   ]
  },
  {
   "cell_type": "code",
   "execution_count": 416,
   "metadata": {},
   "outputs": [],
   "source": [
    "def calc_pdf(x,mean,cov,weight,ncomp):\n",
    "    add = np.zeros((np.shape(x)[0],1))\n",
    "    for i in range(np.shape(weight)[0]):\n",
    "        \n",
    "        add += np.reshape((weight[i])*multivariate_normal.pdf(x,mean[i],cov[i]),(np.shape(x)[0],1))\n",
    "        \n",
    "    return add\n"
   ]
  },
  {
   "cell_type": "code",
   "execution_count": 274,
   "metadata": {},
   "outputs": [],
   "source": []
  },
  {
   "cell_type": "code",
   "execution_count": 247,
   "metadata": {},
   "outputs": [],
   "source": []
  },
  {
   "cell_type": "code",
   "execution_count": 248,
   "metadata": {},
   "outputs": [],
   "source": []
  },
  {
   "cell_type": "code",
   "execution_count": 249,
   "metadata": {},
   "outputs": [
    {
     "data": {
      "text/plain": [
       "[0.006193198546347389,\n",
       " 0.06223634275616382,\n",
       " 0.10375754656472129,\n",
       " 0.12292247940087611,\n",
       " 0.16537431991558943,\n",
       " 0.22267331826943987,\n",
       " 0.279711769073375,\n",
       " 0.3198478876268463,\n",
       " 0.3242284399025547,\n",
       " 0.37930714444491,\n",
       " 0.38998393825012817,\n",
       " 0.3919534612622647,\n",
       " 0.414216469679013,\n",
       " 0.46644959234593525,\n",
       " 0.5213217830880876,\n",
       " 0.5767796645322926,\n",
       " 0.6279910420925642,\n",
       " 0.6718687742817009,\n",
       " 0.6989880950226476,\n",
       " 0.7559467391071217,\n",
       " 0.8115047607740358,\n",
       " 0.8301342565853312,\n",
       " 0.8764945037794423,\n",
       " 0.8768479275020507,\n",
       " 0.9220436475904965,\n",
       " 0.9614724012242286,\n",
       " 0.9646898276732967,\n",
       " 0.9648016746029284,\n",
       " 1.021289192434162,\n",
       " 1.0777549563498305,\n",
       " 1.11615512183131]"
      ]
     },
     "execution_count": 249,
     "metadata": {},
     "output_type": "execute_result"
    }
   ],
   "source": []
  },
  {
   "cell_type": "code",
   "execution_count": null,
   "metadata": {},
   "outputs": [],
   "source": []
  },
  {
   "cell_type": "code",
   "execution_count": null,
   "metadata": {},
   "outputs": [],
   "source": []
  },
  {
   "cell_type": "code",
   "execution_count": 417,
   "metadata": {},
   "outputs": [
    {
     "data": {
      "text/plain": [
       "10000"
      ]
     },
     "execution_count": 417,
     "metadata": {},
     "output_type": "execute_result"
    }
   ],
   "source": [
    "X_test = testset[:,0:2]\n",
    "y_test = testset[:,-1]\n",
    "len(X_test)"
   ]
  },
  {
   "cell_type": "code",
   "execution_count": 418,
   "metadata": {},
   "outputs": [
    {
     "data": {
      "text/plain": [
       "array([[0.00000000e+000],\n",
       "       [0.00000000e+000],\n",
       "       [2.41885708e-105],\n",
       "       ...,\n",
       "       [1.58694452e-017],\n",
       "       [2.32599524e-151],\n",
       "       [0.00000000e+000]])"
      ]
     },
     "execution_count": 418,
     "metadata": {},
     "output_type": "execute_result"
    }
   ],
   "source": [
    "\n",
    "pdf_test_1 = calc_pdf(X_test,mean_1,cov_1,w_1,n_c1)\n",
    "pdf_test_1"
   ]
  },
  {
   "cell_type": "code",
   "execution_count": null,
   "metadata": {},
   "outputs": [],
   "source": []
  },
  {
   "cell_type": "code",
   "execution_count": 419,
   "metadata": {},
   "outputs": [
    {
     "data": {
      "text/plain": [
       "array([[9.16092901e-34],\n",
       "       [8.45295236e-62],\n",
       "       [1.08002363e-13],\n",
       "       ...,\n",
       "       [1.18570975e-07],\n",
       "       [2.67220487e-11],\n",
       "       [0.00000000e+00]])"
      ]
     },
     "execution_count": 419,
     "metadata": {},
     "output_type": "execute_result"
    }
   ],
   "source": [
    "\n",
    "pdf_test_2 = calc_pdf(X_test,mean_2,cov_2,w_2,n_c2)\n",
    "pdf_test_2"
   ]
  },
  {
   "cell_type": "code",
   "execution_count": 420,
   "metadata": {},
   "outputs": [],
   "source": [
    "pdf_test_3 = calc_pdf(X_test,mean_3,cov_3,w_3,n_c3)\n"
   ]
  },
  {
   "cell_type": "code",
   "execution_count": 421,
   "metadata": {},
   "outputs": [
    {
     "data": {
      "text/plain": [
       "float"
      ]
     },
     "execution_count": 421,
     "metadata": {},
     "output_type": "execute_result"
    }
   ],
   "source": [
    "pdf_test_1 = np.array(pdf_test_1)\n",
    "pdf_test_2 = np.array(pdf_test_2)\n",
    "pdf_test_3 = np.array(pdf_test_3)\n",
    "type(0.28)"
   ]
  },
  {
   "cell_type": "code",
   "execution_count": 422,
   "metadata": {},
   "outputs": [],
   "source": [
    "MAP1 = np.multiply(pdf_test_1,p[0])\n",
    "MAP2 = np.multiply(pdf_test_2,p[1])\n",
    "MAP3 = np.multiply(pdf_test_3,p[2])"
   ]
  },
  {
   "cell_type": "code",
   "execution_count": 423,
   "metadata": {},
   "outputs": [
    {
     "data": {
      "text/plain": [
       "array([[0.00000000e+000],\n",
       "       [0.00000000e+000],\n",
       "       [7.49845694e-106],\n",
       "       ...,\n",
       "       [4.91952800e-018],\n",
       "       [7.21058526e-152],\n",
       "       [0.00000000e+000]])"
      ]
     },
     "execution_count": 423,
     "metadata": {},
     "output_type": "execute_result"
    }
   ],
   "source": [
    "MAP1 = np.reshape(MAP1,(10000,1))\n",
    "MAP1"
   ]
  },
  {
   "cell_type": "code",
   "execution_count": 424,
   "metadata": {},
   "outputs": [
    {
     "data": {
      "text/plain": [
       "array([[2.65666941e-34],\n",
       "       [2.45135618e-62],\n",
       "       [3.13206852e-14],\n",
       "       ...,\n",
       "       [3.43855827e-08],\n",
       "       [7.74939412e-12],\n",
       "       [0.00000000e+00]])"
      ]
     },
     "execution_count": 424,
     "metadata": {},
     "output_type": "execute_result"
    }
   ],
   "source": [
    "MAP2 = np.reshape(MAP2,(10000,1))\n",
    "MAP2"
   ]
  },
  {
   "cell_type": "code",
   "execution_count": 425,
   "metadata": {},
   "outputs": [
    {
     "data": {
      "text/plain": [
       "array([[3.73245880e-07],\n",
       "       [4.14350739e-08],\n",
       "       [6.17257274e-08],\n",
       "       ...,\n",
       "       [2.24274373e-08],\n",
       "       [3.52642687e-07],\n",
       "       [1.51568045e-04]])"
      ]
     },
     "execution_count": 425,
     "metadata": {},
     "output_type": "execute_result"
    }
   ],
   "source": [
    "MAP3 = np.reshape(MAP3,(10000,1))\n",
    "MAP3"
   ]
  },
  {
   "cell_type": "code",
   "execution_count": 426,
   "metadata": {},
   "outputs": [],
   "source": [
    "MAP = np.concatenate((MAP1,MAP2,MAP3),axis  = 1)"
   ]
  },
  {
   "cell_type": "code",
   "execution_count": null,
   "metadata": {},
   "outputs": [],
   "source": []
  },
  {
   "cell_type": "code",
   "execution_count": 427,
   "metadata": {},
   "outputs": [],
   "source": [
    "pred = np.argmax(MAP,axis=1)+1"
   ]
  },
  {
   "cell_type": "code",
   "execution_count": 428,
   "metadata": {},
   "outputs": [
    {
     "data": {
      "text/plain": [
       "array([3, 3, 3, ..., 2, 3, 3], dtype=int64)"
      ]
     },
     "execution_count": 428,
     "metadata": {},
     "output_type": "execute_result"
    }
   ],
   "source": [
    "pred"
   ]
  },
  {
   "cell_type": "code",
   "execution_count": 429,
   "metadata": {},
   "outputs": [],
   "source": [
    "col = ['label']\n",
    "df = pd.DataFrame(pred,columns=col)"
   ]
  },
  {
   "cell_type": "code",
   "execution_count": 430,
   "metadata": {},
   "outputs": [
    {
     "data": {
      "text/plain": [
       "2092"
      ]
     },
     "execution_count": 430,
     "metadata": {},
     "output_type": "execute_result"
    }
   ],
   "source": [
    "(df['label'] ==1).sum()\n"
   ]
  },
  {
   "cell_type": "code",
   "execution_count": 431,
   "metadata": {},
   "outputs": [
    {
     "data": {
      "text/plain": [
       "0.6262"
      ]
     },
     "execution_count": 431,
     "metadata": {},
     "output_type": "execute_result"
    }
   ],
   "source": [
    "from sklearn.metrics import accuracy_score\n",
    "acc = accuracy_score(y_test,pred)\n",
    "acc"
   ]
  },
  {
   "cell_type": "code",
   "execution_count": null,
   "metadata": {},
   "outputs": [],
   "source": []
  },
  {
   "cell_type": "code",
   "execution_count": null,
   "metadata": {},
   "outputs": [],
   "source": []
  },
  {
   "cell_type": "code",
   "execution_count": null,
   "metadata": {},
   "outputs": [],
   "source": []
  },
  {
   "cell_type": "markdown",
   "metadata": {},
   "source": [
    "FOR 500 SAMPLES"
   ]
  },
  {
   "cell_type": "code",
   "execution_count": 386,
   "metadata": {},
   "outputs": [
    {
     "name": "stdout",
     "output_type": "stream",
     "text": [
      "11 1 12\n"
     ]
    },
    {
     "data": {
      "image/png": "[encoded data removed]",
      "text/plain": [
       "<Figure size 432x288 with 1 Axes>"
      ]
     },
     "metadata": {
      "needs_background": "light"
     },
     "output_type": "display_data"
    }
   ],
   "source": [
    "n_c1_5= model_selection(x_train500_d1)\n",
    "n_c2_5= model_selection(x_train500_d2)\n",
    "n_c3_5= model_selection(x_train500_d3)\n",
    "print(n_c1_5,n_c2_5,n_c3_5)"
   ]
  },
  {
   "cell_type": "code",
   "execution_count": 387,
   "metadata": {},
   "outputs": [],
   "source": [
    "gmm_model_1_5 = gmm_model(n_c1_5,x_train500_d1)\n",
    "mean_1_5 = gmm_model_1_5.means_\n",
    "cov_1_5 = np.array(gmm_model_1_5.covariances_)\n",
    "w_1_5 = gmm_model_1_5.weights_\n"
   ]
  },
  {
   "cell_type": "code",
   "execution_count": 388,
   "metadata": {},
   "outputs": [],
   "source": [
    "gmm_model_2_5 = gmm_model(n_c2_5,x_train500_d2)\n",
    "mean_2_5 = gmm_model_2_5.means_\n",
    "cov_2_5 = np.array(gmm_model_2_5.covariances_)\n",
    "w_2_5 = gmm_model_2_5.weights_\n"
   ]
  },
  {
   "cell_type": "code",
   "execution_count": 389,
   "metadata": {},
   "outputs": [],
   "source": [
    "gmm_model_3_5 = gmm_model(n_c3_5,x_train500_d3)\n",
    "mean_3_5 = gmm_model_3_5.means_\n",
    "cov_3_5 = np.array(gmm_model_3_5.covariances_)\n",
    "w_3_5 = gmm_model_3_5.weights_\n"
   ]
  },
  {
   "cell_type": "code",
   "execution_count": 390,
   "metadata": {},
   "outputs": [],
   "source": [
    "pdf1_5 = calc_pdf(x_train500_d1,mean_1_5,cov_1_5,w_1_5,n_c1_5)\n",
    "pdf2_5 = calc_pdf(x_train500_d2,mean_2_5,cov_2_5,w_2_5,n_c2_5)\n",
    "pdf3_5 = calc_pdf(x_train500_d3,mean_3_5,cov_3_5,w_3_5,n_c3_5)"
   ]
  },
  {
   "cell_type": "code",
   "execution_count": 391,
   "metadata": {},
   "outputs": [],
   "source": [
    "pdf_test_1_5 = calc_pdf(X_test,mean_1_5,cov_1_5,w_1_5,n_c1_5)\n",
    "pdf_test_2_5= calc_pdf(X_test,mean_2_5,cov_2_5,w_2_5,n_c2_5)\n",
    "pdf_test_3_5 = calc_pdf(X_test,mean_3_5,cov_3_5,w_3_5,n_c3_5)\n"
   ]
  },
  {
   "cell_type": "code",
   "execution_count": 392,
   "metadata": {},
   "outputs": [],
   "source": [
    "pdf_test_1_5 = np.array(pdf_test_1_5)\n",
    "pdf_test_2_5 = np.array(pdf_test_2_5)\n",
    "pdf_test_3_5 = np.array(pdf_test_3_5)\n",
    "\n",
    "MAP1_5 = np.multiply(pdf_test_1_5,p_500[0])\n",
    "MAP2_5 = np.multiply(pdf_test_2_5,p_500[1])\n",
    "MAP3_5 = np.multiply(pdf_test_3_5,p_500[2])"
   ]
  },
  {
   "cell_type": "code",
   "execution_count": 393,
   "metadata": {},
   "outputs": [],
   "source": [
    "MAP1_5 = np.reshape(MAP1_5,(10000,1))\n",
    "MAP2_5 = np.reshape(MAP2_5,(10000,1))\n",
    "MAP3_5 = np.reshape(MAP3_5,(10000,1))\n",
    "\n",
    "MAP_5 = np.concatenate((MAP1_5,MAP2_5,MAP3_5),axis = 1)\n",
    "\n",
    "pred_5 = np.argmax(MAP_5,axis=1)+1\n",
    "acc_5 = accuracy_score(y_test,pred_5)"
   ]
  },
  {
   "cell_type": "code",
   "execution_count": 397,
   "metadata": {},
   "outputs": [
    {
     "name": "stdout",
     "output_type": "stream",
     "text": [
      "accuracy on 500 samples: 0.9469\n"
     ]
    }
   ],
   "source": [
    "print('accuracy on 500 samples:',acc_5)"
   ]
  },
  {
   "cell_type": "code",
   "execution_count": 395,
   "metadata": {},
   "outputs": [
    {
     "data": {
      "text/plain": [
       "array([2., 2., 2., ..., 1., 2., 3.])"
      ]
     },
     "execution_count": 395,
     "metadata": {},
     "output_type": "execute_result"
    }
   ],
   "source": [
    "y_test"
   ]
  },
  {
   "cell_type": "markdown",
   "metadata": {},
   "source": [
    "FOR 1000 SAMPLES"
   ]
  },
  {
   "cell_type": "code",
   "execution_count": 471,
   "metadata": {},
   "outputs": [
    {
     "name": "stdout",
     "output_type": "stream",
     "text": [
      "14 13 15\n"
     ]
    },
    {
     "data": {
      "image/png": "[encoded data removed]",
      "text/plain": [
       "<Figure size 432x288 with 1 Axes>"
      ]
     },
     "metadata": {
      "needs_background": "light"
     },
     "output_type": "display_data"
    }
   ],
   "source": [
    "n_c1_10= model_selection(x_train1000_d1)\n",
    "n_c2_10= model_selection(x_train1000_d2)\n",
    "n_c3_10= model_selection(x_train1000_d3)\n",
    "print(n_c1_10,n_c2_10,n_c3_10)"
   ]
  },
  {
   "cell_type": "code",
   "execution_count": 485,
   "metadata": {},
   "outputs": [],
   "source": [
    "gmm_model_1_10 = gmm_model(15,x_train1000_d1)\n",
    "mean_1_10 = gmm_model_1_10.means_\n",
    "cov_1_10 = np.array(gmm_model_1_10.covariances_)\n",
    "w_1_10 = gmm_model_1_10.weights_\n"
   ]
  },
  {
   "cell_type": "code",
   "execution_count": 486,
   "metadata": {},
   "outputs": [],
   "source": [
    "gmm_model_2_10 = gmm_model(14,x_train1000_d2)\n",
    "mean_2_10 = gmm_model_2_10.means_\n",
    "cov_2_10 = np.array(gmm_model_2_10.covariances_)\n",
    "w_2_10 = gmm_model_2_10.weights_\n"
   ]
  },
  {
   "cell_type": "code",
   "execution_count": 487,
   "metadata": {},
   "outputs": [],
   "source": [
    "gmm_model_3_10 = gmm_model(1,x_train1000_d3)\n",
    "mean_3_10 = gmm_model_3_10.means_\n",
    "cov_3_10 = np.array(gmm_model_3_10.covariances_)\n",
    "w_3_10 = gmm_model_3_10.weights_\n"
   ]
  },
  {
   "cell_type": "code",
   "execution_count": 488,
   "metadata": {},
   "outputs": [],
   "source": [
    "pdf1_10 = calc_pdf(x_train1000_d1,mean_1_10,cov_1_10,w_1_10,n_c1_10)\n",
    "pdf2_10 = calc_pdf(x_train1000_d2,mean_2_10,cov_2_10,w_2_10,n_c2_10)\n",
    "pdf3_10 = calc_pdf(x_train1000_d3,mean_3_10,cov_3_10,w_3_10,n_c3_10)"
   ]
  },
  {
   "cell_type": "code",
   "execution_count": 489,
   "metadata": {},
   "outputs": [],
   "source": [
    "pdf_test_1_10 = calc_pdf(X_test,mean_1_10,cov_1_10,w_1_10,n_c1_10)\n",
    "pdf_test_2_10= calc_pdf(X_test,mean_2_10,cov_2_10,w_2_10,n_c2_10)\n",
    "pdf_test_3_10 = calc_pdf(X_test,mean_3_10,cov_3_10,w_3_10,n_c3_10)\n"
   ]
  },
  {
   "cell_type": "code",
   "execution_count": 490,
   "metadata": {},
   "outputs": [],
   "source": [
    "pdf_test_1_10 = np.array(pdf_test_1_10)\n",
    "pdf_test_2_10 = np.array(pdf_test_1_10)\n",
    "pdf_test_3_10 = np.array(pdf_test_1_10)\n",
    "\n",
    "MAP1_10 = np.multiply(pdf_test_1_10,p_1000[0])\n",
    "MAP2_10 = np.multiply(pdf_test_2_10,p_1000[1])\n",
    "MAP3_10 = np.multiply(pdf_test_3_10,p_1000[2])"
   ]
  },
  {
   "cell_type": "code",
   "execution_count": 491,
   "metadata": {},
   "outputs": [
    {
     "data": {
      "text/plain": [
       "array([2., 2., 2., ..., 1., 2., 3.])"
      ]
     },
     "execution_count": 491,
     "metadata": {},
     "output_type": "execute_result"
    }
   ],
   "source": [
    "MAP1_10 = np.reshape(MAP1_10,(10000,1))\n",
    "MAP2_10 = np.reshape(MAP2_10,(10000,1))\n",
    "MAP3_10 = np.reshape(MAP3_10,(10000,1))\n",
    "\n",
    "MAP_10 = np.concatenate((MAP1_10,MAP2_10,MAP3_10),axis = 1)\n",
    "\n",
    "pred_10 = np.argmax(MAP_10,axis=1)+1\n",
    "\n",
    "acc_10 = accuracy_score(y_test,pred_10)\n",
    "y_test"
   ]
  },
  {
   "cell_type": "code",
   "execution_count": 492,
   "metadata": {},
   "outputs": [
    {
     "data": {
      "text/plain": [
       "0.1261"
      ]
     },
     "execution_count": 492,
     "metadata": {},
     "output_type": "execute_result"
    }
   ],
   "source": [
    "acc_10"
   ]
  },
  {
   "cell_type": "code",
   "execution_count": null,
   "metadata": {},
   "outputs": [],
   "source": []
  },
  {
   "cell_type": "code",
   "execution_count": null,
   "metadata": {},
   "outputs": [],
   "source": []
  },
  {
   "cell_type": "code",
   "execution_count": null,
   "metadata": {},
   "outputs": [],
   "source": []
  },
  {
   "cell_type": "code",
   "execution_count": null,
   "metadata": {},
   "outputs": [],
   "source": []
  },
  {
   "cell_type": "code",
   "execution_count": null,
   "metadata": {},
   "outputs": [],
   "source": []
  },
  {
   "cell_type": "code",
   "execution_count": null,
   "metadata": {},
   "outputs": [],
   "source": []
  },
  {
   "cell_type": "code",
   "execution_count": null,
   "metadata": {},
   "outputs": [],
   "source": []
  },
  {
   "cell_type": "code",
   "execution_count": null,
   "metadata": {},
   "outputs": [],
   "source": []
  },
  {
   "cell_type": "code",
   "execution_count": null,
   "metadata": {},
   "outputs": [],
   "source": []
  }
 ],
 "metadata": {
  "kernelspec": {
   "display_name": "Python 3",
   "language": "python",
   "name": "python3"
  },
  "language_info": {
   "codemirror_mode": {
    "name": "ipython",
    "version": 3
   },
   "file_extension": ".py",
   "mimetype": "text/x-python",
   "name": "python",
   "nbconvert_exporter": "python",
   "pygments_lexer": "ipython3",
   "version": "3.7.4"
  }
 },
 "nbformat": 4,
 "nbformat_minor": 2
}
